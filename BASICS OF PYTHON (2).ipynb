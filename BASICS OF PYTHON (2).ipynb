{
 "cells": [
  {
   "cell_type": "code",
   "execution_count": 3,
   "id": "e46de5e7",
   "metadata": {},
   "outputs": [
    {
     "name": "stdout",
     "output_type": "stream",
     "text": [
      "10\n"
     ]
    }
   ],
   "source": [
    "x=10\n",
    "print(x)\n"
   ]
  },
  {
   "cell_type": "code",
   "execution_count": null,
   "id": "44323001",
   "metadata": {},
   "outputs": [],
   "source": [
    "#Python is a free to use programming language\n",
    "#Python was created in 1991\n",
    "#Its a scalable language\n",
    "#Its a open source language"
   ]
  },
  {
   "cell_type": "code",
   "execution_count": null,
   "id": "e8c44028",
   "metadata": {},
   "outputs": [],
   "source": [
    "#Python has Variables and Values\n",
    "#Variables are just like container that stores the values\n",
    "\n",
    "#Python has 2 types of functions, \n",
    "#System defined functions : Case Sensitive : Lowercase\n",
    "#User defined fucntions : Not Case Sensitie : Lowercase and Uppercase"
   ]
  },
  {
   "cell_type": "code",
   "execution_count": 10,
   "id": "d2da420d",
   "metadata": {},
   "outputs": [
    {
     "name": "stdout",
     "output_type": "stream",
     "text": [
      "30\n",
      "-10\n",
      "200\n",
      "0.5\n",
      "100\n",
      "1000\n"
     ]
    }
   ],
   "source": [
    "#Basic Calculation\n",
    "\n",
    "#Addition\n",
    "\n",
    "a = 10; b = 20\n",
    "\n",
    "print (a+b)\n",
    "\n",
    "#Substract\n",
    "\n",
    "print(a-b)\n",
    "\n",
    "#Multiply\n",
    "\n",
    "print(a*b)\n",
    "\n",
    "#Divide\n",
    "\n",
    "print(a/b)\n",
    "\n",
    "#Square\n",
    "\n",
    "print(a**2)\n",
    "\n",
    "#Cube\n",
    "\n",
    "print(a**3)"
   ]
  },
  {
   "cell_type": "code",
   "execution_count": null,
   "id": "976c60c4",
   "metadata": {},
   "outputs": [],
   "source": [
    "#Data Types\n",
    "\n",
    "#Python has 2 data types : Numerical and Textual\n",
    "#It has two interger datatype (int) and (float)"
   ]
  },
  {
   "cell_type": "code",
   "execution_count": 11,
   "id": "21e03ccd",
   "metadata": {},
   "outputs": [
    {
     "name": "stdout",
     "output_type": "stream",
     "text": [
      "15\n",
      "<class 'int'>\n"
     ]
    }
   ],
   "source": [
    "t=15\n",
    "print(t)\n",
    "print(type(t))"
   ]
  },
  {
   "cell_type": "code",
   "execution_count": 12,
   "id": "51f5abdd",
   "metadata": {},
   "outputs": [
    {
     "name": "stdout",
     "output_type": "stream",
     "text": [
      "9.89\n",
      "<class 'float'>\n"
     ]
    }
   ],
   "source": [
    "T=9.89\n",
    "print(T)\n",
    "print(type(T))"
   ]
  },
  {
   "cell_type": "code",
   "execution_count": 13,
   "id": "ce42d903",
   "metadata": {},
   "outputs": [
    {
     "name": "stdout",
     "output_type": "stream",
     "text": [
      "Sparsh Mathur\n",
      "<class 'str'>\n"
     ]
    }
   ],
   "source": [
    "#String data \n",
    "\n",
    "a = \"Sparsh Mathur\"\n",
    "print(a)\n",
    "print(type(a))"
   ]
  },
  {
   "cell_type": "code",
   "execution_count": 15,
   "id": "55931ef5",
   "metadata": {},
   "outputs": [
    {
     "name": "stdout",
     "output_type": "stream",
     "text": [
      "Sparsh Mathur\n"
     ]
    }
   ],
   "source": [
    "#Add 2 strings\n",
    "\n",
    "p = \"Sparsh\" ; q= \"Mathur\"\n",
    "\n",
    "print(p+\" \"+q)"
   ]
  },
  {
   "cell_type": "code",
   "execution_count": 16,
   "id": "e94824c5",
   "metadata": {},
   "outputs": [
    {
     "name": "stdout",
     "output_type": "stream",
     "text": [
      "Enter your name: Sparsh Mathur\n",
      "The entered name is  Sparsh Mathur\n"
     ]
    }
   ],
   "source": [
    "#Input Functions\n",
    "name = input(\"Enter your name: \")\n",
    "print(\"The entered name is \", name)"
   ]
  },
  {
   "cell_type": "code",
   "execution_count": 17,
   "id": "e2551ad9",
   "metadata": {},
   "outputs": [
    {
     "name": "stdout",
     "output_type": "stream",
     "text": [
      "Please enter your email id: sparshmathur@gmail.com\n",
      "The entered email id is  sparshmathur@gmail.com\n"
     ]
    }
   ],
   "source": [
    "email = input(\"Please enter your email id: \")\n",
    "print (\"The entered email id is \", email)\n"
   ]
  },
  {
   "cell_type": "code",
   "execution_count": 19,
   "id": "bd0b39be",
   "metadata": {},
   "outputs": [
    {
     "name": "stdout",
     "output_type": "stream",
     "text": [
      "Enter the Age: 24\n",
      "The user age is  24\n"
     ]
    }
   ],
   "source": [
    "age = int(input(\"Enter the Age: \"))\n",
    "print(\"The user age is \", age)\n"
   ]
  },
  {
   "cell_type": "code",
   "execution_count": 20,
   "id": "60ee2e2d",
   "metadata": {},
   "outputs": [
    {
     "name": "stdout",
     "output_type": "stream",
     "text": [
      "Enter your name: Sparsh\n",
      "The entered name is  Sparsh\n",
      "Enter the Age: 24\n",
      "The user age is  24\n",
      "Enter your city: Delhi\n",
      "The entered city is  Delhi\n"
     ]
    }
   ],
   "source": [
    "    name = input(\"Enter your name: \")\n",
    "    print(\"The entered name is \", name)\n",
    "    age = int(input(\"Enter the Age: \"))\n",
    "    print(\"The user age is \", age)\n",
    "    city = input(\"Enter your city: \")\n",
    "    print(\"The entered city is \", city)"
   ]
  },
  {
   "cell_type": "code",
   "execution_count": 26,
   "id": "a2b831b5",
   "metadata": {},
   "outputs": [
    {
     "name": "stdout",
     "output_type": "stream",
     "text": [
      "Enter number 1: 23\n",
      "Enter number 2: 23\n",
      "The sum is 46\n"
     ]
    }
   ],
   "source": [
    "x= int(input(\"Enter number 1: \"))\n",
    "y= int(input(\"Enter number 2: \"))\n",
    "\n",
    "add = x+y\n",
    "print (\"The sum is\" , add)"
   ]
  },
  {
   "cell_type": "code",
   "execution_count": 24,
   "id": "dd0bb0ee",
   "metadata": {},
   "outputs": [
    {
     "name": "stdout",
     "output_type": "stream",
     "text": [
      "Enter Revenue2000\n",
      "Enter Exp500\n",
      "The net profit is 1500\n"
     ]
    }
   ],
   "source": [
    "    rev= int(input(\"Enter Revenue\"))\n",
    "    exp= int(input(\"Enter Exp\"))\n",
    "\n",
    "    print (\"The net profit is\", rev-exp)"
   ]
  },
  {
   "cell_type": "code",
   "execution_count": 27,
   "id": "135a81af",
   "metadata": {},
   "outputs": [
    {
     "name": "stdout",
     "output_type": "stream",
     "text": [
      "Enter USD you want to convert: 1000\n",
      "The inr value of your USD is 83000\n"
     ]
    }
   ],
   "source": [
    "USD = int(input(\"Enter USD you want to convert: \"))\n",
    "\n",
    "INR = USD*83\n",
    "\n",
    "print (\"The inr value of your USD is\", INR)"
   ]
  },
  {
   "cell_type": "code",
   "execution_count": 28,
   "id": "3b771c5b",
   "metadata": {},
   "outputs": [
    {
     "name": "stdout",
     "output_type": "stream",
     "text": [
      "False\n"
     ]
    }
   ],
   "source": [
    "#Boolean Data Type\n",
    "\n",
    "s=24\n",
    "\n",
    "print (s==23)"
   ]
  },
  {
   "cell_type": "code",
   "execution_count": 29,
   "id": "a3d708a3",
   "metadata": {},
   "outputs": [
    {
     "name": "stdout",
     "output_type": "stream",
     "text": [
      "<class 'bool'>\n"
     ]
    }
   ],
   "source": [
    "f= False\n",
    "print(type(f))"
   ]
  },
  {
   "cell_type": "code",
   "execution_count": 31,
   "id": "f173c463",
   "metadata": {},
   "outputs": [
    {
     "name": "stdout",
     "output_type": "stream",
     "text": [
      "True\n"
     ]
    }
   ],
   "source": [
    "#if else\n",
    "a=3.5\n",
    "if a==3.5:\n",
    "    print(\"True\")\n",
    "else:\n",
    "    print(\"False\")\n"
   ]
  },
  {
   "cell_type": "code",
   "execution_count": 33,
   "id": "081891bd",
   "metadata": {},
   "outputs": [
    {
     "name": "stdout",
     "output_type": "stream",
     "text": [
      "enter first number : 5\n",
      "enter Second number : 5\n",
      "x is smaller than y\n"
     ]
    }
   ],
   "source": [
    "#if else with Input\n",
    "#Accept two numbers from user and check which one is greater\n",
    "\n",
    "x= int (input(\"enter first number : \"))\n",
    "y= int (input(\"enter Second number : \"))\n",
    "\n",
    "#condition\n",
    "\n",
    "if x>y:\n",
    "    print(\"x is greater than y\")\n",
    "else:\n",
    "    print(\"x is smaller than y\")\n",
    "    "
   ]
  },
  {
   "cell_type": "code",
   "execution_count": 35,
   "id": "701cd083",
   "metadata": {},
   "outputs": [
    {
     "name": "stdout",
     "output_type": "stream",
     "text": [
      "enter first number : 5\n",
      "enter Second number : 5\n",
      "x is equal to y\n"
     ]
    }
   ],
   "source": [
    "#else if\n",
    "#conditional statements\n",
    "#Accept two numbers from user and check which one is greater\n",
    "\n",
    "x= int (input(\"enter first number : \"))\n",
    "y= int (input(\"enter Second number : \"))\n",
    "\n",
    "#condition\n",
    "\n",
    "if x>y:\n",
    "    print(\"x is greater than y\")\n",
    "elif x==y:\n",
    "    print(\"x is equal to y\")\n",
    "else:\n",
    "    print(\"X is smaller than y\")\n",
    "    "
   ]
  },
  {
   "cell_type": "code",
   "execution_count": 2,
   "id": "657980ef",
   "metadata": {},
   "outputs": [
    {
     "name": "stdout",
     "output_type": "stream",
     "text": [
      "enter your age : 15\n",
      "x is 13-19\n"
     ]
    }
   ],
   "source": [
    "x= int (input(\"enter your age : \"))\n",
    "\n",
    "#condition\n",
    "\n",
    "\n",
    "if x>0 and x<12:\n",
    "    print(\"x is 0-12\")\n",
    "elif x>13 and x<19:\n",
    "    print(\"x is 13-19\")\n",
    "else:\n",
    "    print(\"X is 20 or older\")\n",
    "    "
   ]
  },
  {
   "cell_type": "code",
   "execution_count": 6,
   "id": "cd62fb79",
   "metadata": {},
   "outputs": [
    {
     "name": "stdout",
     "output_type": "stream",
     "text": [
      "Enter the Year2023\n",
      "Entered year is not leap year\n"
     ]
    }
   ],
   "source": [
    "leap = int(input(\"Enter the Year\"))\n",
    "\n",
    "#condition\n",
    "\n",
    "if leap%4==0 and leap%100!=0:\n",
    "    print(\"the entered year is leap year\")\n",
    "    \n",
    "elif leap%400==0 and leap%100==0:\n",
    "    print(\"the entered year is leap year\")\n",
    "else:\n",
    "    print(\"Entered year is not leap year\")\n"
   ]
  },
  {
   "cell_type": "code",
   "execution_count": 8,
   "id": "23bbb1bd",
   "metadata": {},
   "outputs": [
    {
     "name": "stdout",
     "output_type": "stream",
     "text": [
      "enter your total marks : 33\n",
      "Your Grade is F\n"
     ]
    }
   ],
   "source": [
    "x= int (input(\"enter your total marks : \"))\n",
    "\n",
    "#condition\n",
    "\n",
    "\n",
    "if x>90 :\n",
    "    print(\"Your Grade is A\")\n",
    "elif x>80 and x<90:\n",
    "    print(\"Your Grade is B\")\n",
    "elif x>70 and x<80:\n",
    "    print(\"Your Grade is C\")\n",
    "elif x>60 and x<70:\n",
    "    print(\"Your Grade is D\")    \n",
    "else:\n",
    "    print(\"Your Grade is F\")\n",
    "    "
   ]
  },
  {
   "cell_type": "code",
   "execution_count": null,
   "id": "004a2ef5",
   "metadata": {},
   "outputs": [],
   "source": [
    "#Data Structures\n",
    "#List [] : Mutable\n",
    "#Tuple () : Immutable \n",
    "#Dictionary {}"
   ]
  },
  {
   "cell_type": "code",
   "execution_count": null,
   "id": "687f19f3",
   "metadata": {},
   "outputs": [],
   "source": [
    "#Lists\n",
    "#All data structures can be passed\n",
    "#Lists are Mutable, editable, changed, altered"
   ]
  },
  {
   "cell_type": "code",
   "execution_count": 10,
   "id": "f793adaf",
   "metadata": {},
   "outputs": [
    {
     "name": "stdout",
     "output_type": "stream",
     "text": [
      "<class 'list'>\n"
     ]
    }
   ],
   "source": [
    "new_list = ['apple',8.5,9,True]\n",
    "print (type(new_list))"
   ]
  },
  {
   "cell_type": "code",
   "execution_count": 13,
   "id": "d7793173",
   "metadata": {},
   "outputs": [
    {
     "name": "stdout",
     "output_type": "stream",
     "text": [
      "True\n",
      "['apple', 8.5, 9]\n"
     ]
    }
   ],
   "source": [
    "#access the elements\n",
    "\n",
    "#Python uses 0 based indexing\n",
    "#first item at 0\n",
    "\n",
    "print(new_list[3])\n",
    "print(new_list[:3])\n",
    "\n"
   ]
  },
  {
   "cell_type": "code",
   "execution_count": 15,
   "id": "87a3b843",
   "metadata": {},
   "outputs": [
    {
     "name": "stdout",
     "output_type": "stream",
     "text": [
      "['apple', 8.5, 'Bangalore', True]\n"
     ]
    }
   ],
   "source": [
    "#Modifying List\n",
    "\n",
    "new_list[2] = \"Bangalore\"\n",
    "\n",
    "print(new_list)"
   ]
  },
  {
   "cell_type": "markdown",
   "id": "a3de7342",
   "metadata": {},
   "source": [
    "# .append()"
   ]
  },
  {
   "cell_type": "code",
   "execution_count": 16,
   "id": "af194721",
   "metadata": {},
   "outputs": [
    {
     "name": "stdout",
     "output_type": "stream",
     "text": [
      "['apple', 8.5, 'Bangalore', True, 'Data Analyst']\n"
     ]
    }
   ],
   "source": [
    "#adding items in the list\n",
    "# .append() : to add a new item at end of list\n",
    "\n",
    "new_list.append(\"Data Analyst\")\n",
    "\n",
    "print(new_list)"
   ]
  },
  {
   "cell_type": "code",
   "execution_count": 17,
   "id": "8f1c19a9",
   "metadata": {},
   "outputs": [
    {
     "name": "stdout",
     "output_type": "stream",
     "text": [
      "5\n"
     ]
    }
   ],
   "source": [
    "#checking the length of the list\n",
    "#len()\n",
    "\n",
    "print (len(new_list))"
   ]
  },
  {
   "cell_type": "code",
   "execution_count": 18,
   "id": "1dc3d630",
   "metadata": {},
   "outputs": [
    {
     "data": {
      "text/plain": [
       "['Data Analyst', True, 'Bangalore', 8.5, 'apple']"
      ]
     },
     "execution_count": 18,
     "metadata": {},
     "output_type": "execute_result"
    }
   ],
   "source": [
    "#Reverse\n",
    "\n",
    "new_list.reverse()\n",
    "new_list"
   ]
  },
  {
   "cell_type": "code",
   "execution_count": null,
   "id": "58014792",
   "metadata": {},
   "outputs": [],
   "source": [
    "#insert Function\n",
    "\n",
    "new_list.insert"
   ]
  },
  {
   "cell_type": "code",
   "execution_count": 19,
   "id": "0f05cd80",
   "metadata": {},
   "outputs": [
    {
     "name": "stdout",
     "output_type": "stream",
     "text": [
      "enter first number : 12\n",
      "enter second number : 22\n",
      "enter third number : 3\n",
      "Ascending order is  [3, 12, 22]\n"
     ]
    }
   ],
   "source": [
    "#Sorted Function\n",
    "\n",
    "x= int (input(\"enter first number : \"))\n",
    "y= int (input(\"enter second number : \"))\n",
    "z= int (input(\"enter third number : \"))\n",
    "\n",
    "#sort in ascending\n",
    "\n",
    "sorted_numbers = sorted([x,y,z])\n",
    "\n",
    "print(\"Ascending order is \", sorted_numbers)\n"
   ]
  },
  {
   "cell_type": "code",
   "execution_count": null,
   "id": "51ac870b",
   "metadata": {},
   "outputs": [],
   "source": [
    "#temp =float\n",
    "\n",
    "celsius = float(input(\"Enter the temp\"))\n",
    "\n",
    "fnyt = (celsius"
   ]
  },
  {
   "cell_type": "code",
   "execution_count": 20,
   "id": "7bda2a38",
   "metadata": {},
   "outputs": [
    {
     "data": {
      "text/plain": [
       "2"
      ]
     },
     "execution_count": 20,
     "metadata": {},
     "output_type": "execute_result"
    }
   ],
   "source": [
    "#count()\n",
    "\n",
    "my_lst = [1,2,3,2]\n",
    "\n",
    "count = my_lst.count(2)\n",
    "\n",
    "count"
   ]
  },
  {
   "cell_type": "code",
   "execution_count": 21,
   "id": "0d2812cf",
   "metadata": {},
   "outputs": [
    {
     "data": {
      "text/plain": [
       "[1, 2, 4]"
      ]
     },
     "execution_count": 21,
     "metadata": {},
     "output_type": "execute_result"
    }
   ],
   "source": [
    "#pop functon\n",
    "#removes and returns an utem at a specfed ndex\n",
    "\n",
    "my_lst = [1,2,3,4]\n",
    "\n",
    "my_lst.pop(2)\n",
    "\n",
    "my_lst"
   ]
  },
  {
   "cell_type": "markdown",
   "id": "f72a7563",
   "metadata": {},
   "source": [
    "# TUPLES : ()"
   ]
  },
  {
   "cell_type": "code",
   "execution_count": 26,
   "id": "6caed296",
   "metadata": {},
   "outputs": [
    {
     "name": "stdout",
     "output_type": "stream",
     "text": [
      "4\n"
     ]
    }
   ],
   "source": [
    "#TUPLES : ()\n",
    "#Parentheses\n",
    "\n",
    "my_tuple = (1,2,3,4)\n",
    "\n",
    "my_tuple\n",
    "\n",
    "print(len(my_tuple))\n"
   ]
  },
  {
   "cell_type": "code",
   "execution_count": 27,
   "id": "3c6097b3",
   "metadata": {},
   "outputs": [
    {
     "data": {
      "text/plain": [
       "(12, 13, 14, 15, 16, 17)"
      ]
     },
     "execution_count": 27,
     "metadata": {},
     "output_type": "execute_result"
    }
   ],
   "source": [
    "tuple1 = (12,13,14)\n",
    "tuple2 = (15,16,17)\n",
    "\n",
    "concat_tuple = tuple1 + tuple2\n",
    "\n",
    "concat_tuple"
   ]
  },
  {
   "cell_type": "code",
   "execution_count": 28,
   "id": "2aa90171",
   "metadata": {},
   "outputs": [
    {
     "data": {
      "text/plain": [
       "True"
      ]
     },
     "execution_count": 28,
     "metadata": {},
     "output_type": "execute_result"
    }
   ],
   "source": [
    "my_tuple = (1,2,3,4)\n",
    "\n",
    "exists = 1 in my_tuple\n",
    "\n",
    "exists"
   ]
  },
  {
   "cell_type": "code",
   "execution_count": 29,
   "id": "f5d1417f",
   "metadata": {},
   "outputs": [
    {
     "name": "stdout",
     "output_type": "stream",
     "text": [
      "The max value is 9 and The min value is:  1\n"
     ]
    }
   ],
   "source": [
    "#maximum and minimum\n",
    "\n",
    "my_tuple = (1,2,3,4,5,6,7,8,9)\n",
    "\n",
    "max_val = max(my_tuple)\n",
    "min_val = min(my_tuple)\n",
    "\n",
    "print(\"The max value is\", max_val,\"and\",\"The min value is: \", min_val)"
   ]
  },
  {
   "cell_type": "markdown",
   "id": "a7fda6c3",
   "metadata": {},
   "source": [
    "# Dictionary"
   ]
  },
  {
   "cell_type": "code",
   "execution_count": 30,
   "id": "e713b028",
   "metadata": {},
   "outputs": [
    {
     "name": "stdout",
     "output_type": "stream",
     "text": [
      "{'name': 'Sparsh', 'age': 25, 'city': 'Gwalior'}\n",
      "<class 'dict'>\n"
     ]
    }
   ],
   "source": [
    "#{}\n",
    "#Key value Pair\n",
    "\n",
    "a = {'name':'Sparsh','age':25,'city':\"Gwalior\"}\n",
    "\n",
    "print(a)\n",
    "\n",
    "print(type(a))"
   ]
  },
  {
   "cell_type": "code",
   "execution_count": 31,
   "id": "8b1f1353",
   "metadata": {},
   "outputs": [
    {
     "data": {
      "text/plain": [
       "{'Name': ['Sparsh', 'Mathur', 'Manyavar'],\n",
       " 'Age': [20, 25, 25],\n",
       " 'College': ['abc', 'bcd']}"
      ]
     },
     "execution_count": 31,
     "metadata": {},
     "output_type": "execute_result"
    }
   ],
   "source": [
    "#Dictionary is used to pass multiple values you pass it in a list\n",
    "\n",
    "student_records = {'Name':['Sparsh','Mathur','Manyavar'],\n",
    "                  'Age':[20,25,25],\n",
    "                  'College':['abc','bcd']}\n",
    "student_records"
   ]
  },
  {
   "cell_type": "markdown",
   "id": "4bdc11fd",
   "metadata": {},
   "source": [
    "# For Loops\n",
    "\n",
    "# Syntax\n",
    "\n",
    "# for variable in item:\n",
    "  # print (\"#####\")"
   ]
  },
  {
   "cell_type": "code",
   "execution_count": 3,
   "id": "f9394fde",
   "metadata": {},
   "outputs": [
    {
     "name": "stdout",
     "output_type": "stream",
     "text": [
      "I like apple\n",
      "I like Banana\n",
      "I like Strawberry\n",
      "I like MAngo\n"
     ]
    }
   ],
   "source": [
    "fruits = [\"apple\",\"Banana\",\"Strawberry\",\"MAngo\"]\n",
    "\n",
    "for x in fruits:\n",
    "    print(\"I like\", x)"
   ]
  },
  {
   "cell_type": "code",
   "execution_count": 5,
   "id": "f70067ce",
   "metadata": {},
   "outputs": [
    {
     "name": "stdout",
     "output_type": "stream",
     "text": [
      "P\n",
      "y\n",
      "t\n",
      "h\n",
      "o\n",
      "n\n",
      " \n",
      "i\n",
      "s\n",
      " \n",
      "a\n",
      " \n",
      "c\n",
      "o\n",
      "o\n",
      "l\n",
      " \n",
      "l\n",
      "a\n",
      "n\n",
      "g\n",
      "u\n",
      "a\n",
      "g\n",
      "e\n"
     ]
    }
   ],
   "source": [
    "word = \"Python is a cool language\"\n",
    "\n",
    "for a in word:\n",
    "    print(a)"
   ]
  },
  {
   "cell_type": "code",
   "execution_count": 8,
   "id": "235c7dfa",
   "metadata": {},
   "outputs": [
    {
     "name": "stdout",
     "output_type": "stream",
     "text": [
      "1\n",
      "4\n",
      "9\n",
      "16\n",
      "25\n"
     ]
    }
   ],
   "source": [
    "num = (1,2,3,4,5)\n",
    "\n",
    "for n in num:\n",
    "    sqr = n**2\n",
    "    \n",
    "    print(sqr)"
   ]
  },
  {
   "cell_type": "code",
   "execution_count": 9,
   "id": "2546ac68",
   "metadata": {},
   "outputs": [
    {
     "name": "stdout",
     "output_type": "stream",
     "text": [
      "I like you"
     ]
    }
   ],
   "source": [
    "m = \"I like you\"\n",
    "for x in m:\n",
    "    print(x,end='')"
   ]
  },
  {
   "cell_type": "code",
   "execution_count": 15,
   "id": "208f27d9",
   "metadata": {},
   "outputs": [
    {
     "name": "stdout",
     "output_type": "stream",
     "text": [
      "[2, 4, 6, 8, 10]\n",
      "[1, 3, 5, 7, 9]\n"
     ]
    }
   ],
   "source": [
    "a = [1,2,3,4,5,6,7,8,9,10]\n",
    "\n",
    "evenList = []\n",
    "oddList = [] #empty list store\n",
    "\n",
    "for i in a:\n",
    "    if i%2==0:\n",
    "        evenList.append(i)\n",
    "    else:\n",
    "        oddList.append(i)\n",
    "        \n",
    "print(evenList)\n",
    "print(oddList)"
   ]
  },
  {
   "cell_type": "code",
   "execution_count": 16,
   "id": "b99ee68f",
   "metadata": {},
   "outputs": [
    {
     "name": "stdout",
     "output_type": "stream",
     "text": [
      "0 1\n",
      "1 2\n",
      "2 3\n",
      "3 4\n",
      "4 5\n",
      "5 6\n"
     ]
    }
   ],
   "source": [
    "#enumerate : index : Pair\n",
    "\n",
    "a = [1,2,3,4,5,6]\n",
    "\n",
    "for i,j in enumerate(a):\n",
    "    print(i,j)"
   ]
  },
  {
   "cell_type": "code",
   "execution_count": 18,
   "id": "a8c8cb2b",
   "metadata": {},
   "outputs": [
    {
     "name": "stdout",
     "output_type": "stream",
     "text": [
      "1\n",
      "2\n",
      "3\n",
      "4\n",
      "5\n"
     ]
    }
   ],
   "source": [
    "#Range\n",
    "\n",
    "for i in range(1,6): #start #Stop\n",
    "   print(i)\n",
    "\n",
    "    "
   ]
  },
  {
   "cell_type": "markdown",
   "id": "b7636c58",
   "metadata": {},
   "source": [
    "# Dictionary"
   ]
  },
  {
   "cell_type": "code",
   "execution_count": null,
   "id": "9c11c4e2",
   "metadata": {},
   "outputs": [],
   "source": [
    "#Key value pairs\n"
   ]
  },
  {
   "cell_type": "code",
   "execution_count": 22,
   "id": "7ebead08",
   "metadata": {},
   "outputs": [],
   "source": [
    "dict_new = {\"Name\" : \"Sparsh\", \n",
    "            \"Age\" : 25, \n",
    "            \"City\" :\"GWL\"}\n"
   ]
  },
  {
   "cell_type": "code",
   "execution_count": 23,
   "id": "b505bc59",
   "metadata": {
    "scrolled": true
   },
   "outputs": [
    {
     "data": {
      "text/plain": [
       "{'Name': 'Sparsh', 'Age': 25, 'City': 'GWL'}"
      ]
     },
     "execution_count": 23,
     "metadata": {},
     "output_type": "execute_result"
    }
   ],
   "source": [
    "dict_new"
   ]
  },
  {
   "cell_type": "code",
   "execution_count": 24,
   "id": "19858616",
   "metadata": {},
   "outputs": [
    {
     "name": "stdout",
     "output_type": "stream",
     "text": [
      "dict_keys(['Name', 'Age', 'City'])\n",
      "\n",
      "\n",
      "dict_values(['Sparsh', 25, 'GWL'])\n"
     ]
    }
   ],
   "source": [
    "print(dict_new.keys())\n",
    "print('\\n')\n",
    "print(dict_new.values())"
   ]
  },
  {
   "cell_type": "code",
   "execution_count": 25,
   "id": "346588a6",
   "metadata": {},
   "outputs": [
    {
     "data": {
      "text/plain": [
       "{'Name': 'Sparsh', 'Age': 25, 'city': 'Gwalior'}"
      ]
     },
     "execution_count": 25,
     "metadata": {},
     "output_type": "execute_result"
    }
   ],
   "source": [
    "#more example\n",
    "info = {\"Name\": 'Sparsh',\n",
    "       \"Age\": 25,\n",
    "       \"city\": \"Gwalior\"}\n",
    "\n",
    "info"
   ]
  },
  {
   "cell_type": "code",
   "execution_count": 28,
   "id": "9fc9e3c9",
   "metadata": {},
   "outputs": [
    {
     "name": "stdout",
     "output_type": "stream",
     "text": [
      "Name and city is  Sparsh Gwalior\n"
     ]
    }
   ],
   "source": [
    "print('Name and city is  ' + info[\"Name\"] + \" \" + info[\"city\"])"
   ]
  },
  {
   "cell_type": "markdown",
   "id": "a8736de1",
   "metadata": {},
   "source": [
    "# Functions In Python"
   ]
  },
  {
   "cell_type": "code",
   "execution_count": null,
   "id": "c541aa86",
   "metadata": {},
   "outputs": [],
   "source": [
    "# functions in python\n",
    "# block of code which only runs when it is called\n",
    "# 1. execution of function : write the main function : arguements\n",
    "# 2. calling a function : show the output : parameters\n",
    "# syntax\n",
    "def func_name(#arguments: inputs):\n",
    "  print/ return : o/p\n",
    "func_name(#parameters)"
   ]
  },
  {
   "cell_type": "code",
   "execution_count": 2,
   "id": "c6359948",
   "metadata": {},
   "outputs": [],
   "source": [
    "#Function to add no\n",
    "\n",
    "def add_number(a,b):\n",
    "    return a+b"
   ]
  },
  {
   "cell_type": "code",
   "execution_count": 3,
   "id": "1df30a92",
   "metadata": {},
   "outputs": [
    {
     "data": {
      "text/plain": [
       "400"
      ]
     },
     "execution_count": 3,
     "metadata": {},
     "output_type": "execute_result"
    }
   ],
   "source": [
    "add_number(300,100)"
   ]
  },
  {
   "cell_type": "code",
   "execution_count": 5,
   "id": "ffb5f353",
   "metadata": {},
   "outputs": [
    {
     "name": "stdout",
     "output_type": "stream",
     "text": [
      "Hello, Welcome to Mars!!\n"
     ]
    }
   ],
   "source": [
    "def intro_func():\n",
    "    print(\"Hello, Welcome to Mars!!\")\n",
    "    \n",
    "intro_func()"
   ]
  },
  {
   "cell_type": "code",
   "execution_count": 11,
   "id": "92b38092",
   "metadata": {},
   "outputs": [],
   "source": [
    "def mul_number(a,b):\n",
    "    return a*b"
   ]
  },
  {
   "cell_type": "code",
   "execution_count": 12,
   "id": "b8e7e577",
   "metadata": {},
   "outputs": [
    {
     "data": {
      "text/plain": [
       "120000"
      ]
     },
     "execution_count": 12,
     "metadata": {},
     "output_type": "execute_result"
    }
   ],
   "source": [
    "mul_number(300,400)"
   ]
  },
  {
   "cell_type": "code",
   "execution_count": 20,
   "id": "c2f16cc1",
   "metadata": {},
   "outputs": [
    {
     "name": "stdout",
     "output_type": "stream",
     "text": [
      "My name is Sparsh\n",
      "My city is Gwalior\n",
      "My profession is Data Analyst\n"
     ]
    }
   ],
   "source": [
    "def about_me(name,city,profession):\n",
    "    print(\"My name is\",name)\n",
    "    print(\"My city is\",city)\n",
    "    print(\"My profession is\",profession)\n",
    "    \n",
    "about_me(\"Sparsh\",\"Gwalior\",\"Data Analyst\")"
   ]
  },
  {
   "cell_type": "code",
   "execution_count": 24,
   "id": "79af7cf9",
   "metadata": {},
   "outputs": [],
   "source": [
    "def check_no(number):\n",
    "    if number>0:\n",
    "        return \"positive\"\n",
    "    elif number<0:\n",
    "        return \"Negative\"\n",
    "    else:\n",
    "        return \"zero\"\n",
    "        \n"
   ]
  },
  {
   "cell_type": "code",
   "execution_count": 25,
   "id": "7f3efc7c",
   "metadata": {},
   "outputs": [
    {
     "data": {
      "text/plain": [
       "'Negative'"
      ]
     },
     "execution_count": 25,
     "metadata": {},
     "output_type": "execute_result"
    }
   ],
   "source": [
    "check_no(-21)"
   ]
  },
  {
   "cell_type": "code",
   "execution_count": 34,
   "id": "da3308a1",
   "metadata": {},
   "outputs": [],
   "source": [
    "# function that returns the day of the weeek based in input\n",
    "# 1 ..Monday\n",
    "def get_dayOfTheWeek(day_number):\n",
    "    if day_number==1:\n",
    "        return \"Monday....\"\n",
    "    elif day_number==2:\n",
    "        return \"Tuesday....\"\n",
    "    elif day_number==3:\n",
    "        return \"Wednesday.....\"\n",
    "    elif day_number==4:\n",
    "        return \"Thursday...\"\n",
    "    elif day_number==5:\n",
    "        return \"Friday...\"\n",
    "    elif day_number==6:\n",
    "        return \"Saturday...\"\n",
    "    elif day_number==7:\n",
    "        return \"Sunday....\"\n",
    "    else:\n",
    "        return \"Kya phoonk ke aya hai be....\"\n"
   ]
  },
  {
   "cell_type": "code",
   "execution_count": 35,
   "id": "08cf6557",
   "metadata": {},
   "outputs": [
    {
     "data": {
      "text/plain": [
       "'Tuesday....'"
      ]
     },
     "execution_count": 35,
     "metadata": {},
     "output_type": "execute_result"
    }
   ],
   "source": [
    "get_dayOfTheWeek(2)"
   ]
  },
  {
   "cell_type": "code",
   "execution_count": 40,
   "id": "54fdd7d8",
   "metadata": {},
   "outputs": [],
   "source": [
    "#function with if-elif-else loop\n",
    "def insurance(age):\n",
    "    if (age>=45):\n",
    "        print(\"Insurance will cost you 40,000\")\n",
    "    elif (age>=30) & (age<=44):\n",
    "        print(\"Insurance will cost you 35,000\")\n",
    "    elif (age>=18) & (age<=29):\n",
    "        print(\"Insurance will cost you 25,000\")\n",
    "    else:\n",
    "        print(\"Insurance will cost you 20,000\")\n",
    "    return age\n"
   ]
  },
  {
   "cell_type": "code",
   "execution_count": 41,
   "id": "19da2744",
   "metadata": {},
   "outputs": [
    {
     "name": "stdout",
     "output_type": "stream",
     "text": [
      "Insurance will cost you 20,000\n"
     ]
    },
    {
     "data": {
      "text/plain": [
       "17"
      ]
     },
     "execution_count": 41,
     "metadata": {},
     "output_type": "execute_result"
    }
   ],
   "source": [
    "insurance(17)"
   ]
  },
  {
   "cell_type": "code",
   "execution_count": null,
   "id": "986125a9",
   "metadata": {},
   "outputs": [],
   "source": []
  },
  {
   "cell_type": "code",
   "execution_count": null,
   "id": "9cdb2b7a",
   "metadata": {},
   "outputs": [],
   "source": []
  }
 ],
 "metadata": {
  "kernelspec": {
   "display_name": "Python 3 (ipykernel)",
   "language": "python",
   "name": "python3"
  },
  "language_info": {
   "codemirror_mode": {
    "name": "ipython",
    "version": 3
   },
   "file_extension": ".py",
   "mimetype": "text/x-python",
   "name": "python",
   "nbconvert_exporter": "python",
   "pygments_lexer": "ipython3",
   "version": "3.11.4"
  }
 },
 "nbformat": 4,
 "nbformat_minor": 5
}
